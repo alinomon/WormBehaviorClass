{
 "cells": [
  {
   "cell_type": "code",
   "execution_count": 26,
   "metadata": {},
   "outputs": [],
   "source": [
    "#1\n",
    "\n",
    "import torch\n",
    "import torch.nn as nn\n",
    "import torch.optim as optim\n",
    "import pandas as pd\n",
    "\n",
    "import numpy as np\n",
    "from tqdm.auto import tqdm\n",
    "import glob\n",
    "\n",
    "import torch.autograd as autograd\n",
    "import torch.nn.functional as F\n",
    "from torch.utils.data import Dataset, DataLoader\n",
    "from torch.utils.data import TensorDataset\n",
    "from torch.nn.utils.rnn import pad_sequence\n",
    "from torch.nn.utils.rnn import pack_padded_sequence\n",
    "from torch.nn.utils.rnn import PackedSequence\n",
    "\n",
    "import pytorch_lightning as pl\n",
    "import seaborn as sns\n",
    "from pylab import rcParams\n",
    "import matplotlib.pyplot as plt\n",
    "from matplotlib import rc\n",
    "from matplotlib.ticker import MaxNLocator\n",
    "\n",
    "from sklearn.model_selection import train_test_split\n",
    "from sklearn.preprocessing import LabelEncoder\n",
    "\n",
    "from multiprocessing import cpu_count\n",
    "from pytorch_lightning.callbacks import ModelCheckpoint, EarlyStopping\n",
    "from pytorch_lightning.loggers import TensorBoardLogger\n",
    "from torchmetrics.functional import accuracy\n",
    "from sklearn.metrics import classification_report, confusion_matrix"
   ]
  },
  {
   "cell_type": "code",
   "execution_count": 27,
   "metadata": {},
   "outputs": [],
   "source": [
    "#2\n",
    "\n",
    "import os\n",
    "import pandas as pd\n",
    "from torch.utils.data import DataLoader, Dataset, ConcatDataset\n",
    "from sklearn.model_selection import train_test_split\n",
    "from sklearn.preprocessing import StandardScaler\n",
    "import torch\n",
    "from torch import nn\n",
    "from torch.nn import functional as F\n",
    "\n",
    "from sklearn.metrics import confusion_matrix\n",
    "import seaborn as sns\n",
    "import matplotlib.pyplot as plt\n",
    "\n",
    "from sklearn.metrics import precision_score, recall_score, f1_score\n"
   ]
  },
  {
   "cell_type": "code",
   "execution_count": 28,
   "metadata": {},
   "outputs": [],
   "source": [
    "#3\n",
    "\n",
    "class ActivationDataset(Dataset):\n",
    "    def __init__(self, X, y):\n",
    "        self.X = X\n",
    "        self.y = y\n",
    "\n",
    "    def __len__(self):\n",
    "        return len(self.y)\n",
    "\n",
    "    def __getitem__(self, idx):\n",
    "        return self.X[idx], self.y[idx]"
   ]
  },
  {
   "cell_type": "code",
   "execution_count": 29,
   "metadata": {},
   "outputs": [
    {
     "name": "stdout",
     "output_type": "stream",
     "text": [
      "['.\\\\DatasetsTest\\\\AVA&WTStim\\\\AVA_HisCl1.csv', '.\\\\DatasetsTest\\\\AVA&WTStim\\\\AVA_HisCl2.csv', '.\\\\DatasetsTest\\\\AVA&WTStim\\\\AVA_HisCl3.csv', '.\\\\DatasetsTest\\\\AVA&WTStim\\\\AVA_HisCl4.csv', '.\\\\DatasetsTest\\\\AVA&WTStim\\\\AVA_HisCl5.csv', '.\\\\DatasetsTest\\\\AVA&WTStim\\\\WT_Stim2.csv', '.\\\\DatasetsTest\\\\AVA&WTStim\\\\WT_Stim3.csv', '.\\\\DatasetsTest\\\\AVA&WTStim\\\\WT_Stim4.csv', '.\\\\DatasetsTest\\\\AVA&WTStim\\\\WT_Stim5.csv', '.\\\\DatasetsTest\\\\AVA&WTStim\\\\WT_Stim6.csv', '.\\\\DatasetsTest\\\\AVA&WTStim\\\\WT_Stim7.csv']\n",
      ".\\DatasetsTest\\AVA&WTStim\\WT_Stim1.csv\n"
     ]
    }
   ],
   "source": [
    "#4\n",
    "\n",
    "AVAandWTStim = os.path.join('.', 'DatasetsTest', 'AVA&WTStim', '*.csv')\n",
    "\n",
    "def data_selection(datasetPath, testDatasetName):\n",
    "    csv_files = glob.glob(datasetPath)\n",
    "    \n",
    "    testDataPath = \"\"\n",
    "    for i in range(len(csv_files)):\n",
    "        if testDatasetName in csv_files[i]:\n",
    "            testDataPath = csv_files[i]\n",
    "            break\n",
    "            \n",
    "    newTrainingFiles = [trainFile for trainFile in csv_files if trainFile != testDataPath]\n",
    "        \n",
    "    return newTrainingFiles, testDataPath\n",
    "\n",
    "testFileName = \"WT_Stim1\"\n",
    "#testFileName = \"AVA_HisCl2\"\n",
    "trainingFiles, testFile = data_selection(AVAandWTStim, testFileName)\n",
    "print(trainingFiles)\n",
    "print(testFile)\n",
    "\n",
    "allDatasetsTrain = []\n",
    "allDatasetsTest = []"
   ]
  },
  {
   "cell_type": "code",
   "execution_count": 30,
   "metadata": {},
   "outputs": [],
   "source": [
    "#5\n",
    "\n",
    "\"\"\"\n",
    "Data processing for MLP model\n",
    "\n",
    "Arguments:\n",
    "    csv files: path to the csv files\n",
    "\n",
    "Returns:\n",
    "    Concatenated datasets. Since there is no implementation for tracking time dependencies in feed forward networks,\n",
    "    the datasets are all appended together creating one big dataset\n",
    "\"\"\"\n",
    "\n",
    "for file in trainingFiles:\n",
    "    data = pd.read_csv(file)\n",
    "\n",
    "    X = data.iloc[:, :-1]\n",
    "    #Subtracting one to make labels in range of what the model can accept (0-3)\n",
    "    y = data.iloc[:, -1] - 1\n",
    "    \n",
    "    XTrain, XTest, yTrain, yTest = train_test_split(X, y, test_size=0.2, random_state=42)\n",
    "\n",
    "    XTrain = torch.tensor(XTrain.values, dtype=torch.float)\n",
    "    yTrain = torch.tensor(yTrain.to_numpy(), dtype=torch.long)\n",
    "\n",
    "    XTest = torch.tensor(XTest.values, dtype=torch.float)\n",
    "    yTest = torch.tensor(yTest.to_numpy(), dtype=torch.long)\n",
    "\n",
    "    allDatasetsTrain.append(ActivationDataset(XTrain, yTrain))\n",
    "    allDatasetsTest.append(ActivationDataset(XTest, yTest))\n",
    "\n",
    "fullDatasetTrain = ConcatDataset(allDatasetsTrain)\n",
    "fullDatasetTest = ConcatDataset(allDatasetsTest)\n",
    "\n",
    "dataloaderTrain = DataLoader(fullDatasetTrain, batch_size=32, shuffle=True)\n",
    "dataloaderTest = DataLoader(fullDatasetTest, batch_size=32, shuffle=False)"
   ]
  },
  {
   "cell_type": "code",
   "execution_count": 31,
   "metadata": {},
   "outputs": [
    {
     "data": {
      "text/plain": [
       "MLP(\n",
       "  (layers): Sequential(\n",
       "    (0): Linear(in_features=134, out_features=256, bias=True)\n",
       "    (1): ReLU()\n",
       "    (2): Linear(in_features=256, out_features=128, bias=True)\n",
       "    (3): ReLU()\n",
       "    (4): Linear(in_features=128, out_features=4, bias=True)\n",
       "  )\n",
       ")"
      ]
     },
     "execution_count": 31,
     "metadata": {},
     "output_type": "execute_result"
    }
   ],
   "source": [
    "#6\n",
    "\n",
    "class MLP(nn.Module):\n",
    "    def __init__(self, input_size, n_classes):\n",
    "        super(MLP, self).__init__()\n",
    "        self.layers = nn.Sequential(\n",
    "            nn.Linear(input_size, 256),\n",
    "            nn.ReLU(),\n",
    "            nn.Linear(256, 128),\n",
    "            nn.ReLU(),\n",
    "            nn.Linear(128, n_classes)\n",
    "        )\n",
    "        \n",
    "    def forward(self, x):\n",
    "        return self.layers(x)\n",
    "\n",
    "model = MLP(XTrain.shape[1], 4)\n",
    "model.eval()"
   ]
  },
  {
   "cell_type": "code",
   "execution_count": 21,
   "metadata": {},
   "outputs": [
    {
     "name": "stdout",
     "output_type": "stream",
     "text": [
      "Epoch [1/30], Training Loss: 1.4750, Validation Loss: 0.3284\n",
      "Epoch [2/30], Training Loss: 0.0002, Validation Loss: 0.2761\n",
      "Epoch [3/30], Training Loss: 0.0875, Validation Loss: 0.2620\n",
      "Epoch [4/30], Training Loss: 0.0251, Validation Loss: 0.2422\n",
      "Epoch [5/30], Training Loss: 0.6135, Validation Loss: 0.2376\n",
      "Epoch [6/30], Training Loss: 0.0000, Validation Loss: 0.2301\n",
      "Epoch [7/30], Training Loss: 0.0000, Validation Loss: 0.2110\n",
      "Epoch [8/30], Training Loss: 0.0001, Validation Loss: 0.2065\n",
      "Epoch [9/30], Training Loss: 0.0127, Validation Loss: 0.2176\n",
      "Epoch [10/30], Training Loss: 1.5631, Validation Loss: 0.2049\n",
      "Epoch [11/30], Training Loss: 0.0006, Validation Loss: 0.2009\n",
      "Epoch [12/30], Training Loss: 0.6743, Validation Loss: 0.2320\n",
      "Epoch [13/30], Training Loss: 0.0345, Validation Loss: 0.2217\n",
      "Epoch [14/30], Training Loss: 0.7729, Validation Loss: 0.2109\n",
      "Epoch [15/30], Training Loss: 0.1407, Validation Loss: 0.2322\n",
      "Epoch [16/30], Training Loss: 0.1661, Validation Loss: 0.2692\n",
      "Epoch [17/30], Training Loss: 0.0044, Validation Loss: 0.2500\n",
      "Epoch [18/30], Training Loss: 0.0000, Validation Loss: 0.2204\n",
      "Epoch [19/30], Training Loss: 0.0011, Validation Loss: 0.2381\n",
      "Epoch [20/30], Training Loss: 0.0000, Validation Loss: 0.2305\n",
      "Epoch [21/30], Training Loss: 0.0813, Validation Loss: 0.2527\n",
      "Epoch [22/30], Training Loss: 0.0003, Validation Loss: 0.2297\n",
      "Epoch [23/30], Training Loss: 0.0050, Validation Loss: 0.2663\n",
      "Epoch [24/30], Training Loss: 0.2440, Validation Loss: 0.2414\n",
      "Epoch [25/30], Training Loss: 0.0002, Validation Loss: 0.2607\n",
      "Epoch [26/30], Training Loss: 0.0001, Validation Loss: 0.2934\n",
      "Epoch [27/30], Training Loss: 0.0044, Validation Loss: 0.2347\n",
      "Epoch [28/30], Training Loss: 0.0467, Validation Loss: 0.3206\n",
      "Epoch [29/30], Training Loss: 0.0000, Validation Loss: 0.2907\n",
      "Epoch [30/30], Training Loss: 0.0002, Validation Loss: 0.2495\n"
     ]
    }
   ],
   "source": [
    "#7\n",
    "\n",
    "train_losses = []\n",
    "val_losses = []\n",
    "\n",
    "device = torch.device(\"cuda:0\" if torch.cuda.is_available() else \"cpu\")\n",
    "\n",
    "model = MLP(XTrain.shape[1], 4).to(device)\n",
    "criterion = nn.CrossEntropyLoss()\n",
    "optimizer = torch.optim.Adam(model.parameters(), lr=0.01)\n",
    "\n",
    "nepochs = 30\n",
    "for epoch in range(nepochs):\n",
    "    model.train()\n",
    "    for i, (XBatch, yBatch) in enumerate(dataloaderTrain):\n",
    "        XBatch, yBatch = XBatch.to(device), yBatch.to(device)\n",
    "        optimizer.zero_grad()\n",
    "        outputs = model(XBatch)\n",
    "        loss = criterion(outputs, yBatch)\n",
    "        loss.backward()\n",
    "        optimizer.step()\n",
    "\n",
    "    model.eval()\n",
    "    val_loss = 0\n",
    "    for XBatch, yBatch in dataloaderTest:\n",
    "        XBatch, yBatch = XBatch.to(device), yBatch.to(device)\n",
    "        outputs = model(XBatch)\n",
    "        val_loss += criterion(outputs, yBatch).item()\n",
    "\n",
    "    val_loss /= len(dataloaderTest)\n",
    "\n",
    "    print('Epoch [{}/{}], Training Loss: {:.4f}, Validation Loss: {:.4f}'.format(epoch+1, nepochs, loss.item(), val_loss))\n",
    "    train_losses.append(loss.item())\n",
    "    val_losses.append(val_loss)\n",
    "\n",
    "Path = os.path.join('.', 'Saved_Models', testFileName + '_MLP')\n",
    "#Uncomment line below to start saving models\n",
    "#torch.save(model, Path)"
   ]
  },
  {
   "cell_type": "code",
   "execution_count": null,
   "metadata": {},
   "outputs": [],
   "source": [
    "#8\n",
    "\n",
    "Path = os.path.join('.', 'Saved_Models', testFileName + '_MLP')"
   ]
  },
  {
   "cell_type": "code",
   "execution_count": 22,
   "metadata": {},
   "outputs": [
    {
     "data": {
      "image/png": "[encoded data removed]",
      "text/plain": [
       "<Figure size 640x480 with 1 Axes>"
      ]
     },
     "metadata": {},
     "output_type": "display_data"
    }
   ],
   "source": [
    "#9\n",
    "\n",
    "import matplotlib.pyplot as plt\n",
    "\n",
    "plt.plot(train_losses, label='Training Loss')\n",
    "plt.plot(val_losses, label='Validation Loss')\n",
    "plt.xlabel('Epoch')\n",
    "plt.ylabel('Loss')\n",
    "plt.legend()\n",
    "plt.show()"
   ]
  },
  {
   "cell_type": "code",
   "execution_count": 23,
   "metadata": {},
   "outputs": [],
   "source": [
    "#10\n",
    "\n",
    "df = pd.read_csv(testFile)"
   ]
  },
  {
   "cell_type": "code",
   "execution_count": 24,
   "metadata": {},
   "outputs": [],
   "source": [
    "#11\n",
    "\n",
    "def predict_actions(model, dataset):\n",
    "    device = torch.device('cuda:0' if torch.cuda.is_available() else 'cpu')\n",
    "    model = model.to(device)\n",
    "    model.eval()  \n",
    "    predictions = []\n",
    "\n",
    "    for i in range(len(dataset)):\n",
    "        sample = torch.tensor(dataset[i], dtype=torch.float32).unsqueeze(0).to(device) \n",
    "        output = model(sample)  \n",
    "        _, predicted = torch.max(output.data, 1) \n",
    "        predictions.append(predicted.item() + 1)\n",
    "\n",
    "    return predictions\n",
    "\n",
    "model = torch.load(Path)\n",
    "\n",
    "unlabeledData = df.drop('Action', axis=1).values\n",
    "predictions = predict_actions(model, unlabeledData)\n",
    "\n",
    "dfPredictions = pd.DataFrame({\"Predicted_Action\": predictions})\n",
    "predictPath = os.path.join('.', 'Predictions', 'MLP_Pred', 'predictions_' + testFileName + '_MLP-FINAL.csv')\n",
    "dfPredictions.to_csv(predictPath, index=False)"
   ]
  },
  {
   "cell_type": "code",
   "execution_count": 25,
   "metadata": {},
   "outputs": [
    {
     "name": "stdout",
     "output_type": "stream",
     "text": [
      "Accuracy: 34.19%\n",
      "Precision: 69.44%\n",
      "F1 Score: 40.98%\n"
     ]
    },
    {
     "data": {
      "image/png": "[encoded data removed]",
      "text/plain": [
       "<Figure size 1000x700 with 2 Axes>"
      ]
     },
     "metadata": {},
     "output_type": "display_data"
    }
   ],
   "source": [
    "#12\n",
    "\n",
    "def compare_predictions(trueDF, predictedDF):\n",
    "    count = 0\n",
    "    total = 0\n",
    "\n",
    "    trueDF = trueDF.iloc[10:]\n",
    "    predictedDF = predictedDF.iloc[10:]\n",
    "\n",
    "    cmTrueLabels = []\n",
    "    cmPredictedLabels = []\n",
    "\n",
    "    for trueLabel, predictedLabel in zip(trueDF['Action'], predictedDF['Predicted_Action']):\n",
    "        total += 1\n",
    "        cmTrueLabels.append(trueLabel)\n",
    "        cmPredictedLabels.append(predictedLabel)\n",
    "        if trueLabel == predictedLabel:\n",
    "            count += 1\n",
    "\n",
    "    accuracy = count / total\n",
    "    cmTrueLabels = [value + 1 for value in cmTrueLabels]\n",
    "    cmPredictedLabels = [value + 1 for value in cmPredictedLabels]\n",
    "    cm = confusion_matrix(cmTrueLabels, cmPredictedLabels)\n",
    "\n",
    "    precision = precision_score(cmTrueLabels, cmPredictedLabels, average='weighted')\n",
    "    f1 = f1_score(cmTrueLabels, cmPredictedLabels, average='weighted')\n",
    "\n",
    "    return accuracy, cm, precision, f1\n",
    "\n",
    "trueDF = df\n",
    "predictedDF = pd.read_csv(predictPath)\n",
    "\n",
    "accuracy, confusion_mat, precision, f1 = compare_predictions(trueDF, predictedDF)\n",
    "print(f'Accuracy: {accuracy * 100:.2f}%')\n",
    "print(f'Precision: {precision * 100:.2f}%')\n",
    "print(f'F1 Score: {f1 * 100:.2f}%')\n",
    "\n",
    "plt.figure(figsize=(10, 7))\n",
    "sns.heatmap(confusion_mat, annot=True, fmt=\"d\", xticklabels=[1, 2, 3, 4], yticklabels=[1, 2, 3, 4])\n",
    "plt.title('Confusion Matrix')\n",
    "plt.xlabel('Predicted')\n",
    "plt.ylabel('True')\n",
    "plt.show()"
   ]
  }
 ],
 "metadata": {
  "kernelspec": {
   "display_name": "base",
   "language": "python",
   "name": "python3"
  },
  "language_info": {
   "codemirror_mode": {
    "name": "ipython",
    "version": 3
   },
   "file_extension": ".py",
   "mimetype": "text/x-python",
   "name": "python",
   "nbconvert_exporter": "python",
   "pygments_lexer": "ipython3",
   "version": "3.9.13"
  },
  "orig_nbformat": 4
 },
 "nbformat": 4,
 "nbformat_minor": 2
}
