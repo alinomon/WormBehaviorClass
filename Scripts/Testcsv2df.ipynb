{
 "cells": [
  {
   "cell_type": "code",
   "execution_count": 2,
   "metadata": {},
   "outputs": [],
   "source": [
    "import mat73\n",
    "import numpy as np \n",
    "import pandas as pd\n",
    "from scipy.io import loadmat\n",
    "import scipy.io as sio\n",
    "from sklearn.preprocessing import PolynomialFeatures\n",
    "from IPython.display import display\n",
    "import os\n",
    "import glob"
   ]
  },
  {
   "cell_type": "code",
   "execution_count": 52,
   "metadata": {},
   "outputs": [],
   "source": [
    "df = pd.read_csv(r'C:\\AlexDocuments\\LSTM_Project\\DatasetsTest\\AVA_HisCl1.csv')\n",
    "df2 = pd.read_csv(r'C:\\AlexDocuments\\LSTM_Project\\DatasetsTest\\AVA_HisCl2.csv')\n",
    "df3 = pd.read_csv(r'C:\\AlexDocuments\\LSTM_Project\\DatasetsTest\\AVA_HisCl3.csv')\n",
    "df4 = pd.read_csv(r'C:\\AlexDocuments\\LSTM_Project\\DatasetsTest\\AVA_HisCl4.csv')\n",
    "df5 = pd.read_csv(r'C:\\AlexDocuments\\LSTM_Project\\DatasetsTest\\AVA_HisCl5.csv')"
   ]
  },
  {
   "cell_type": "code",
   "execution_count": null,
   "metadata": {},
   "outputs": [],
   "source": [
    "df = dfNoFormat[dfNoFormat.columns[:-1]]\n",
    "\n",
    "df"
   ]
  },
  {
   "cell_type": "code",
   "execution_count": 47,
   "metadata": {},
   "outputs": [
    {
     "name": "stdout",
     "output_type": "stream",
     "text": [
      "135\n"
     ]
    }
   ],
   "source": [
    "print(df.shape[1])\n",
    "\n",
    "\n",
    "\n"
   ]
  },
  {
   "cell_type": "code",
   "execution_count": 48,
   "metadata": {},
   "outputs": [
    {
     "data": {
      "text/plain": [
       "(3352, 135)"
      ]
     },
     "execution_count": 48,
     "metadata": {},
     "output_type": "execute_result"
    }
   ],
   "source": [
    "df2.shape"
   ]
  },
  {
   "cell_type": "code",
   "execution_count": 49,
   "metadata": {},
   "outputs": [
    {
     "data": {
      "text/plain": [
       "(3425, 135)"
      ]
     },
     "execution_count": 49,
     "metadata": {},
     "output_type": "execute_result"
    }
   ],
   "source": [
    "df3.shape"
   ]
  },
  {
   "cell_type": "code",
   "execution_count": 53,
   "metadata": {},
   "outputs": [
    {
     "data": {
      "text/plain": [
       "(3030, 135)"
      ]
     },
     "execution_count": 53,
     "metadata": {},
     "output_type": "execute_result"
    }
   ],
   "source": [
    "df4.shape"
   ]
  },
  {
   "cell_type": "code",
   "execution_count": 54,
   "metadata": {},
   "outputs": [
    {
     "data": {
      "text/plain": [
       "(3034, 135)"
      ]
     },
     "execution_count": 54,
     "metadata": {},
     "output_type": "execute_result"
    }
   ],
   "source": [
    "df5.shape"
   ]
  },
  {
   "cell_type": "code",
   "execution_count": 56,
   "metadata": {},
   "outputs": [],
   "source": [
    "df = pd.read_csv(r'C:\\AlexDocuments\\LSTM_Project\\DatasetsTest\\WT_Stim1.csv')\n",
    "df2 = pd.read_csv(r'C:\\AlexDocuments\\LSTM_Project\\DatasetsTest\\WT_Stim2.csv')\n",
    "df3 = pd.read_csv(r'C:\\AlexDocuments\\LSTM_Project\\DatasetsTest\\WT_Stim3.csv')\n",
    "df4 = pd.read_csv(r'C:\\AlexDocuments\\LSTM_Project\\DatasetsTest\\WT_Stim4.csv')\n",
    "df5 = pd.read_csv(r'C:\\AlexDocuments\\LSTM_Project\\DatasetsTest\\WT_Stim5.csv')\n",
    "df6 = pd.read_csv(r'C:\\AlexDocuments\\LSTM_Project\\DatasetsTest\\WT_Stim6.csv')\n",
    "df7 = pd.read_csv(r'C:\\AlexDocuments\\LSTM_Project\\DatasetsTest\\WT_Stim7.csv')"
   ]
  },
  {
   "cell_type": "code",
   "execution_count": 59,
   "metadata": {},
   "outputs": [
    {
     "data": {
      "text/plain": [
       "(2017, 135)"
      ]
     },
     "execution_count": 59,
     "metadata": {},
     "output_type": "execute_result"
    }
   ],
   "source": [
    "df6.shape"
   ]
  },
  {
   "cell_type": "code",
   "execution_count": 4,
   "metadata": {},
   "outputs": [],
   "source": [
    "csv_files = glob.glob(r'C:\\AlexDocuments\\LSTM_Project\\DatasetsTest\\n2_prelet\\*.csv')"
   ]
  },
  {
   "cell_type": "code",
   "execution_count": 5,
   "metadata": {},
   "outputs": [
    {
     "name": "stdout",
     "output_type": "stream",
     "text": [
      "68\n",
      "68\n",
      "67\n",
      "67\n",
      "67\n",
      "67\n",
      "67\n",
      "67\n",
      "67\n",
      "67\n"
     ]
    }
   ],
   "source": [
    "for cFile in csv_files:\n",
    "    print(len(cFile))"
   ]
  },
  {
   "cell_type": "code",
   "execution_count": 3,
   "metadata": {},
   "outputs": [
    {
     "name": "stdout",
     "output_type": "stream",
     "text": [
      "106\n"
     ]
    }
   ],
   "source": [
    "dfNEW = pd.read_csv(r'C:\\AlexDocuments\\LSTM_Project\\DatasetsTest\\n2_prelet\\n2_let1.csv')\n",
    "print(dfNEW.shape[1])"
   ]
  }
 ],
 "metadata": {
  "kernelspec": {
   "display_name": "base",
   "language": "python",
   "name": "python3"
  },
  "language_info": {
   "codemirror_mode": {
    "name": "ipython",
    "version": 3
   },
   "file_extension": ".py",
   "mimetype": "text/x-python",
   "name": "python",
   "nbconvert_exporter": "python",
   "pygments_lexer": "ipython3",
   "version": "3.9.13"
  },
  "orig_nbformat": 4
 },
 "nbformat": 4,
 "nbformat_minor": 2
}
